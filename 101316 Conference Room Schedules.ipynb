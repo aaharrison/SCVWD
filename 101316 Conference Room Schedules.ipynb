{
 "cells": [
  {
   "cell_type": "code",
   "execution_count": 1,
   "metadata": {
    "collapsed": true
   },
   "outputs": [],
   "source": [
    "import pandas as pd\n",
    "import numpy as np\n",
    "from pandas import DataFrame, Series\n",
    "import seaborn as sns\n",
    "import matplotlib.pyplot as plt\n",
    "%matplotlib inline\n",
    "import os\n",
    "import datetime\n",
    "import time\n"
   ]
  },
  {
   "cell_type": "markdown",
   "metadata": {},
   "source": [
    "# Crest Conference Rooms"
   ]
  },
  {
   "cell_type": "code",
   "execution_count": 3,
   "metadata": {
    "collapsed": false
   },
   "outputs": [],
   "source": [
    "os.chdir(\"Conf Rm - C225 (Crest)\")"
   ]
  },
  {
   "cell_type": "code",
   "execution_count": 4,
   "metadata": {
    "collapsed": false
   },
   "outputs": [
    {
     "data": {
      "text/plain": [
       "['.Conf Rm - C209 (Crest) RESTRICTED.xls',\n",
       " '.Conf Rm - C212 RESTRICTED.xls',\n",
       " '.Conf Rm - C225 (Crest).xls',\n",
       " 'Conf Rm - C209 (Crest) RESTRICTED.xls',\n",
       " 'Conf Rm - C212 RESTRICTED.xls',\n",
       " 'Conf Rm - C225 (Crest).xls']"
      ]
     },
     "execution_count": 4,
     "metadata": {},
     "output_type": "execute_result"
    }
   ],
   "source": [
    "os.listdir()"
   ]
  },
  {
   "cell_type": "code",
   "execution_count": 20,
   "metadata": {
    "collapsed": false
   },
   "outputs": [
    {
     "name": "stdout",
     "output_type": "stream",
     "text": [
      "WARNING *** OLE2 inconsistency: SSCS size is 0 but SSAT size is non-zero\n",
      "WARNING *** OLE2 inconsistency: SSCS size is 0 but SSAT size is non-zero\n",
      "WARNING *** OLE2 inconsistency: SSCS size is 0 but SSAT size is non-zero\n"
     ]
    }
   ],
   "source": [
    "C209=pd.read_excel(\"Conf Rm - C209 (Crest) RESTRICTED.xls\")\n",
    "C212=pd.read_excel(\"Conf Rm - C212 RESTRICTED.xls\")\n",
    "C225=pd.read_excel(\"Conf Rm - C225 (Crest).xls\")"
   ]
  },
  {
   "cell_type": "code",
   "execution_count": 21,
   "metadata": {
    "collapsed": false
   },
   "outputs": [],
   "source": [
    "C209[\"Room\"]=\"C209\"\n",
    "C212[\"Room\"]=\"C212\"\n",
    "C225[\"Room\"]=\"C225\""
   ]
  },
  {
   "cell_type": "code",
   "execution_count": 39,
   "metadata": {
    "collapsed": false
   },
   "outputs": [
    {
     "name": "stdout",
     "output_type": "stream",
     "text": [
      "1614\n"
     ]
    }
   ],
   "source": [
    "print(673+467+474)"
   ]
  },
  {
   "cell_type": "code",
   "execution_count": 40,
   "metadata": {
    "collapsed": false
   },
   "outputs": [],
   "source": [
    "Crest=pd.concat([C209,C212,C225])"
   ]
  },
  {
   "cell_type": "code",
   "execution_count": 41,
   "metadata": {
    "collapsed": false
   },
   "outputs": [
    {
     "name": "stdout",
     "output_type": "stream",
     "text": [
      "<class 'pandas.core.frame.DataFrame'>\n",
      "Int64Index: 1614 entries, 0 to 473\n",
      "Data columns (total 23 columns):\n",
      "Subject               1604 non-null object\n",
      "StartDate             1614 non-null object\n",
      "StartTime             1614 non-null object\n",
      "EndDate               1614 non-null object\n",
      "EndTime               1614 non-null object\n",
      "Alldayevent           1614 non-null bool\n",
      "Reminderonoff         1614 non-null bool\n",
      "ReminderDate          1613 non-null object\n",
      "ReminderTime          1613 non-null object\n",
      "MeetingOrganizer      461 non-null object\n",
      "RequiredAttendees     898 non-null object\n",
      "OptionalAttendees     86 non-null object\n",
      "MeetingResources      543 non-null object\n",
      "BillingInformation    0 non-null float64\n",
      "Categories            1 non-null object\n",
      "Description           945 non-null object\n",
      "Location              1080 non-null object\n",
      "Mileage               0 non-null float64\n",
      "Priority              1614 non-null object\n",
      "Private               1614 non-null bool\n",
      "Sensitivity           1614 non-null object\n",
      "Showtimeas            1614 non-null int64\n",
      "Room                  1614 non-null object\n",
      "dtypes: bool(3), float64(2), int64(1), object(17)\n",
      "memory usage: 269.5+ KB\n"
     ]
    }
   ],
   "source": [
    "Crest.info()"
   ]
  },
  {
   "cell_type": "markdown",
   "metadata": {},
   "source": [
    "# Maintainance Confrence Rooms"
   ]
  },
  {
   "cell_type": "code",
   "execution_count": 43,
   "metadata": {
    "collapsed": false
   },
   "outputs": [
    {
     "data": {
      "text/plain": [
       "['.Conf Rm - D102 (MaintReady Room).xls',\n",
       " '.Conf Rm - D131 (Maint).xls',\n",
       " 'Conf Rm - D102 (MaintReady Room).xls',\n",
       " 'Conf Rm - D131 (Maint).xls']"
      ]
     },
     "execution_count": 43,
     "metadata": {},
     "output_type": "execute_result"
    }
   ],
   "source": [
    "os.listdir()"
   ]
  },
  {
   "cell_type": "code",
   "execution_count": 45,
   "metadata": {
    "collapsed": false
   },
   "outputs": [
    {
     "name": "stdout",
     "output_type": "stream",
     "text": [
      "WARNING *** OLE2 inconsistency: SSCS size is 0 but SSAT size is non-zero\n",
      "WARNING *** OLE2 inconsistency: SSCS size is 0 but SSAT size is non-zero\n"
     ]
    }
   ],
   "source": [
    "D102=pd.read_excel(\"Conf Rm - D102 (MaintReady Room).xls\")\n",
    "D131=pd.read_excel(\"Conf Rm - D131 (Maint).xls\")"
   ]
  },
  {
   "cell_type": "code",
   "execution_count": 46,
   "metadata": {
    "collapsed": true
   },
   "outputs": [],
   "source": [
    "D102[\"Room\"]=\"D102\"\n",
    "D131[\"Room\"]=\"D131\""
   ]
  },
  {
   "cell_type": "code",
   "execution_count": 51,
   "metadata": {
    "collapsed": false
   },
   "outputs": [
    {
     "name": "stdout",
     "output_type": "stream",
     "text": [
      "2647\n"
     ]
    }
   ],
   "source": [
    "print(1694+953)"
   ]
  },
  {
   "cell_type": "code",
   "execution_count": 55,
   "metadata": {
    "collapsed": false
   },
   "outputs": [
    {
     "name": "stdout",
     "output_type": "stream",
     "text": [
      "<class 'pandas.core.frame.DataFrame'>\n",
      "Int64Index: 2647 entries, 0 to 952\n",
      "Data columns (total 23 columns):\n",
      "Subject               2644 non-null object\n",
      "StartDate             2647 non-null object\n",
      "StartTime             2647 non-null object\n",
      "EndDate               2647 non-null object\n",
      "EndTime               2647 non-null object\n",
      "Alldayevent           2647 non-null bool\n",
      "Reminderonoff         2647 non-null bool\n",
      "ReminderDate          2647 non-null object\n",
      "ReminderTime          2647 non-null object\n",
      "MeetingOrganizer      316 non-null object\n",
      "RequiredAttendees     956 non-null object\n",
      "OptionalAttendees     200 non-null object\n",
      "MeetingResources      750 non-null object\n",
      "BillingInformation    0 non-null float64\n",
      "Categories            909 non-null object\n",
      "Description           2388 non-null object\n",
      "Location              1065 non-null object\n",
      "Mileage               0 non-null float64\n",
      "Priority              2647 non-null object\n",
      "Private               2647 non-null bool\n",
      "Sensitivity           2647 non-null object\n",
      "Showtimeas            2647 non-null int64\n",
      "Room                  2647 non-null object\n",
      "dtypes: bool(3), float64(2), int64(1), object(17)\n",
      "memory usage: 442.0+ KB\n"
     ]
    }
   ],
   "source": [
    "Maintainance.info()"
   ]
  },
  {
   "cell_type": "code",
   "execution_count": 54,
   "metadata": {
    "collapsed": false
   },
   "outputs": [],
   "source": [
    "Maintainance=pd.concat([D102,D131])"
   ]
  },
  {
   "cell_type": "markdown",
   "metadata": {},
   "source": [
    "# Headquarters Confrence Rooms"
   ]
  },
  {
   "cell_type": "code",
   "execution_count": 57,
   "metadata": {
    "collapsed": false
   },
   "outputs": [
    {
     "data": {
      "text/plain": [
       "['.Conf Rm - A124 (HQ).xls',\n",
       " '.Conf Rm - A136 (HQ).xls',\n",
       " '.Conf Rm - A143 (HQ).xls',\n",
       " '.Conf Rm - A168 (HQ).xls',\n",
       " '.Conf Rm - A226 (HQ).xls',\n",
       " '.Conf Rm - A235 (HQ).xls',\n",
       " '.Conf Rm - A236 (HQ).xls',\n",
       " '.Conf Rm - A318 (HQ).xls',\n",
       " '.Conf Rm - A345 (HQ).xls',\n",
       " '.Conf Rm - A346 (HQ).xls',\n",
       " '.Conf Rm - Boardroom (HQ).xls',\n",
       " '.Conf Rm - District Counsel (HQ).xls',\n",
       " 'Conf Rm - A124 (HQ).xls',\n",
       " 'Conf Rm - A136 (HQ).xls',\n",
       " 'Conf Rm - A143 (HQ).xls',\n",
       " 'Conf Rm - A168 (HQ).xls',\n",
       " 'Conf Rm - A226 (HQ).xls',\n",
       " 'Conf Rm - A235 (HQ).xls',\n",
       " 'Conf Rm - A236 (HQ).xls',\n",
       " 'Conf Rm - A318 (HQ).xls',\n",
       " 'Conf Rm - A345 (HQ).xls',\n",
       " 'Conf Rm - A346 (HQ).xls',\n",
       " 'Conf Rm - Boardroom (HQ).xls',\n",
       " 'Conf Rm - District Counsel (HQ).xls']"
      ]
     },
     "execution_count": 57,
     "metadata": {},
     "output_type": "execute_result"
    }
   ],
   "source": [
    "os.listdir()"
   ]
  },
  {
   "cell_type": "code",
   "execution_count": 59,
   "metadata": {
    "collapsed": false
   },
   "outputs": [
    {
     "name": "stdout",
     "output_type": "stream",
     "text": [
      "WARNING *** OLE2 inconsistency: SSCS size is 0 but SSAT size is non-zero\n",
      "WARNING *** OLE2 inconsistency: SSCS size is 0 but SSAT size is non-zero\n",
      "WARNING *** OLE2 inconsistency: SSCS size is 0 but SSAT size is non-zero\n",
      "WARNING *** OLE2 inconsistency: SSCS size is 0 but SSAT size is non-zero\n",
      "WARNING *** OLE2 inconsistency: SSCS size is 0 but SSAT size is non-zero\n",
      "WARNING *** OLE2 inconsistency: SSCS size is 0 but SSAT size is non-zero\n",
      "WARNING *** OLE2 inconsistency: SSCS size is 0 but SSAT size is non-zero\n",
      "WARNING *** OLE2 inconsistency: SSCS size is 0 but SSAT size is non-zero\n",
      "WARNING *** OLE2 inconsistency: SSCS size is 0 but SSAT size is non-zero\n",
      "WARNING *** OLE2 inconsistency: SSCS size is 0 but SSAT size is non-zero\n",
      "WARNING *** OLE2 inconsistency: SSCS size is 0 but SSAT size is non-zero\n",
      "WARNING *** OLE2 inconsistency: SSCS size is 0 but SSAT size is non-zero\n"
     ]
    }
   ],
   "source": [
    "A124 = pd.read_excel(\"Conf Rm - A124 (HQ).xls\")\n",
    "A136 = pd.read_excel(\"Conf Rm - A136 (HQ).xls\")\n",
    "A143 = pd.read_excel(\"Conf Rm - A143 (HQ).xls\")\n",
    "A168 = pd.read_excel(\"Conf Rm - A168 (HQ).xls\")\n",
    "A226 = pd.read_excel(\"Conf Rm - A226 (HQ).xls\")\n",
    "A235 = pd.read_excel(\"Conf Rm - A235 (HQ).xls\")\n",
    "A236 = pd.read_excel(\"Conf Rm - A236 (HQ).xls\")\n",
    "A318 = pd.read_excel(\"Conf Rm - A318 (HQ).xls\")\n",
    "A345 = pd.read_excel(\"Conf Rm - A345 (HQ).xls\")\n",
    "A346 = pd.read_excel(\"Conf Rm - A346 (HQ).xls\")\n",
    "Boardroom = pd.read_excel(\"Conf Rm - Boardroom (HQ).xls\")\n",
    "District = pd.read_excel(\"Conf Rm - District Counsel (HQ).xls\")"
   ]
  },
  {
   "cell_type": "code",
   "execution_count": 60,
   "metadata": {
    "collapsed": true
   },
   "outputs": [],
   "source": [
    "A124[\"Room\"]=\"A124 (HQ)\"\n",
    "A136[\"Room\"]=\"A136 (HQ)\"\n",
    "A143[\"Room\"]=\"A143 (HQ)\"\n",
    "A168[\"Room\"]=\"A168 (HQ)\"\n",
    "A226[\"Room\"]=\"A226 (HQ)\"\n",
    "A235[\"Room\"]=\"A235 (HQ)\"\n",
    "A236[\"Room\"]=\"A236 (HQ)\"\n",
    "A318[\"Room\"]=\"A318 (HQ)\"\n",
    "A345[\"Room\"]=\"A345 (HQ)\"\n",
    "A346[\"Room\"]=\"A346 (HQ)\"\n",
    "Boardroom[\"Room\"]=\"Boardroom (HQ)\"\n",
    "District[\"Room\"]=\"District Counsel (HQ)\""
   ]
  },
  {
   "cell_type": "code",
   "execution_count": 66,
   "metadata": {
    "collapsed": false
   },
   "outputs": [
    {
     "name": "stdout",
     "output_type": "stream",
     "text": [
      "11760\n"
     ]
    }
   ],
   "source": [
    "HQcount=0\n",
    "for x in [A124,A136,A143,A168,A226,A235,A236,A318,A345,A346,Boardroom,District]:\n",
    "    HQcount+=len(x)\n",
    "\n",
    "print(HQcount)"
   ]
  },
  {
   "cell_type": "code",
   "execution_count": 67,
   "metadata": {
    "collapsed": false
   },
   "outputs": [
    {
     "name": "stdout",
     "output_type": "stream",
     "text": [
      "<class 'pandas.core.frame.DataFrame'>\n",
      "Int64Index: 11760 entries, 0 to 141\n",
      "Data columns (total 23 columns):\n",
      "Subject               11736 non-null object\n",
      "StartDate             11760 non-null object\n",
      "StartTime             11760 non-null object\n",
      "EndDate               11760 non-null object\n",
      "EndTime               11760 non-null object\n",
      "Alldayevent           11760 non-null bool\n",
      "Reminderonoff         11760 non-null bool\n",
      "ReminderDate          11760 non-null object\n",
      "ReminderTime          11760 non-null object\n",
      "MeetingOrganizer      4486 non-null object\n",
      "RequiredAttendees     5482 non-null object\n",
      "OptionalAttendees     875 non-null object\n",
      "MeetingResources      1679 non-null object\n",
      "BillingInformation    0 non-null float64\n",
      "Categories            95 non-null object\n",
      "Description           7352 non-null object\n",
      "Location              8885 non-null object\n",
      "Mileage               0 non-null float64\n",
      "Priority              11760 non-null object\n",
      "Private               11760 non-null bool\n",
      "Sensitivity           11760 non-null object\n",
      "Showtimeas            11760 non-null int64\n",
      "Room                  11760 non-null object\n",
      "dtypes: bool(3), float64(2), int64(1), object(17)\n",
      "memory usage: 1.9+ MB\n"
     ]
    }
   ],
   "source": [
    "HQ.info()"
   ]
  },
  {
   "cell_type": "code",
   "execution_count": 62,
   "metadata": {
    "collapsed": false
   },
   "outputs": [],
   "source": [
    "HQ=pd.concat([A124,A136,A143,A168,A226,A235,A236,A318,A345,A346,Boardroom,District])"
   ]
  },
  {
   "cell_type": "markdown",
   "metadata": {},
   "source": [
    "# Admin Conference Rooms"
   ]
  },
  {
   "cell_type": "code",
   "execution_count": 69,
   "metadata": {
    "collapsed": false
   },
   "outputs": [
    {
     "data": {
      "text/plain": [
       "['.Conf Rm - B108 (Admin) - Old Board Room.xls',\n",
       " '.Conf Rm - B124 (Admin).xls',\n",
       " '.Conf Rm - B207 (Admin).xls',\n",
       " '.Conf Rm - B232 (Admin).xls',\n",
       " '.Conf Rom - B228 (Admin) RESTRICTED.xls',\n",
       " 'Conf Rm - B108 (Admin) - Old Board Room.xls',\n",
       " 'Conf Rm - B124 (Admin).xls',\n",
       " 'Conf Rm - B207 (Admin).xls',\n",
       " 'Conf Rm - B232 (Admin).xls',\n",
       " 'Conf Rom - B228 (Admin) RESTRICTED.xls']"
      ]
     },
     "execution_count": 69,
     "metadata": {},
     "output_type": "execute_result"
    }
   ],
   "source": [
    "os.chdir(\"/Users/adeniyiharrison/Desktop/Outlook Scheduling/Conf Rom - B228 (Admin) RESTRICTED\")\n",
    "os.listdir()"
   ]
  },
  {
   "cell_type": "code",
   "execution_count": 71,
   "metadata": {
    "collapsed": false
   },
   "outputs": [
    {
     "name": "stdout",
     "output_type": "stream",
     "text": [
      "WARNING *** OLE2 inconsistency: SSCS size is 0 but SSAT size is non-zero\n",
      "WARNING *** OLE2 inconsistency: SSCS size is 0 but SSAT size is non-zero\n",
      "WARNING *** OLE2 inconsistency: SSCS size is 0 but SSAT size is non-zero\n",
      "WARNING *** OLE2 inconsistency: SSCS size is 0 but SSAT size is non-zero\n",
      "WARNING *** OLE2 inconsistency: SSCS size is 0 but SSAT size is non-zero\n"
     ]
    }
   ],
   "source": [
    "B108 = pd.read_excel(\"Conf Rm - B108 (Admin) - Old Board Room.xls\")\n",
    "B124 = pd.read_excel(\"Conf Rm - B124 (Admin).xls\")\n",
    "B207 = pd.read_excel(\"Conf Rm - B207 (Admin).xls\")\n",
    "B232 = pd.read_excel(\"Conf Rm - B232 (Admin).xls\")\n",
    "B228 = pd.read_excel(\"Conf Rom - B228 (Admin) RESTRICTED.xls\")"
   ]
  },
  {
   "cell_type": "code",
   "execution_count": 72,
   "metadata": {
    "collapsed": true
   },
   "outputs": [],
   "source": [
    "B108[\"Room\"] = \"B108 (Admin)\"\n",
    "B124[\"Room\"] = \"B124 (Admin)\"\n",
    "B207[\"Room\"] = \"B207 (Admin)\"\n",
    "B232[\"Room\"] = \"B232 (Admin)\"\n",
    "B228[\"Room\"] = \"B228 (Admin)\""
   ]
  },
  {
   "cell_type": "code",
   "execution_count": 73,
   "metadata": {
    "collapsed": false
   },
   "outputs": [
    {
     "name": "stdout",
     "output_type": "stream",
     "text": [
      "6243\n"
     ]
    }
   ],
   "source": [
    "adminCount=0\n",
    "for x in [B108,B124,B207,B232,B228]:\n",
    "    adminCount+= len(x)\n",
    "    \n",
    "print(adminCount)"
   ]
  },
  {
   "cell_type": "code",
   "execution_count": 76,
   "metadata": {
    "collapsed": false
   },
   "outputs": [
    {
     "name": "stdout",
     "output_type": "stream",
     "text": [
      "<class 'pandas.core.frame.DataFrame'>\n",
      "Int64Index: 6243 entries, 0 to 33\n",
      "Data columns (total 23 columns):\n",
      "Subject               6218 non-null object\n",
      "StartDate             6243 non-null object\n",
      "StartTime             6243 non-null object\n",
      "EndDate               6243 non-null object\n",
      "EndTime               6243 non-null object\n",
      "Alldayevent           6243 non-null bool\n",
      "Reminderonoff         6243 non-null bool\n",
      "ReminderDate          6243 non-null object\n",
      "ReminderTime          6243 non-null object\n",
      "MeetingOrganizer      1627 non-null object\n",
      "RequiredAttendees     2747 non-null object\n",
      "OptionalAttendees     331 non-null object\n",
      "MeetingResources      1898 non-null object\n",
      "BillingInformation    0 non-null float64\n",
      "Categories            75 non-null object\n",
      "Description           5512 non-null object\n",
      "Location              4723 non-null object\n",
      "Mileage               0 non-null float64\n",
      "Priority              6243 non-null object\n",
      "Private               6243 non-null bool\n",
      "Sensitivity           6243 non-null object\n",
      "Showtimeas            6243 non-null int64\n",
      "Room                  6243 non-null object\n",
      "dtypes: bool(3), float64(2), int64(1), object(17)\n",
      "memory usage: 1.0+ MB\n"
     ]
    }
   ],
   "source": [
    "Admin.info()"
   ]
  },
  {
   "cell_type": "code",
   "execution_count": 75,
   "metadata": {
    "collapsed": false
   },
   "outputs": [],
   "source": [
    "Admin = pd.concat([B108,B124,B207,B232,B228])"
   ]
  },
  {
   "cell_type": "markdown",
   "metadata": {},
   "source": [
    "# Maple Conference Rooms"
   ]
  },
  {
   "cell_type": "code",
   "execution_count": 77,
   "metadata": {
    "collapsed": false
   },
   "outputs": [
    {
     "data": {
      "text/plain": [
       "['.Conf Rm - G111 (BHA).xls',\n",
       " '.Conf Rm - G112 (BHA).xls',\n",
       " '.Training Room - Computers (BHA).xls',\n",
       " '.Training Room - Evergreen (BHA).xls',\n",
       " '.Training Room - Maple (BHA).xls',\n",
       " 'Conf Rm - G111 (BHA).xls',\n",
       " 'Conf Rm - G112 (BHA).xls',\n",
       " 'Training Room - Computers (BHA).xls',\n",
       " 'Training Room - Evergreen (BHA).xls',\n",
       " 'Training Room - Maple (BHA) (1).xls']"
      ]
     },
     "execution_count": 77,
     "metadata": {},
     "output_type": "execute_result"
    }
   ],
   "source": [
    "os.chdir(\"/Users/adeniyiharrison/Desktop/Outlook Scheduling/Training Room - Maple (BHA)\")\n",
    "os.listdir()"
   ]
  },
  {
   "cell_type": "code",
   "execution_count": 79,
   "metadata": {
    "collapsed": false
   },
   "outputs": [
    {
     "name": "stdout",
     "output_type": "stream",
     "text": [
      "WARNING *** OLE2 inconsistency: SSCS size is 0 but SSAT size is non-zero\n",
      "WARNING *** OLE2 inconsistency: SSCS size is 0 but SSAT size is non-zero\n",
      "WARNING *** OLE2 inconsistency: SSCS size is 0 but SSAT size is non-zero\n",
      "WARNING *** OLE2 inconsistency: SSCS size is 0 but SSAT size is non-zero\n"
     ]
    }
   ],
   "source": [
    "G111 = pd.read_excel(\"Conf Rm - G111 (BHA).xls\")\n",
    "G112 = pd.read_excel(\"Conf Rm - G112 (BHA).xls\")\n",
    "Computers = pd.read_excel(\"Training Room - Computers (BHA).xls\")\n",
    "Evergreen = pd.read_excel(\"Training Room - Evergreen (BHA).xls\")\n",
    "Maple = pd.read_excel(\"Training Room - Maple (BHA) (1).xls\")"
   ]
  },
  {
   "cell_type": "code",
   "execution_count": 80,
   "metadata": {
    "collapsed": true
   },
   "outputs": [],
   "source": [
    "G111[\"Room\"] = \"G111 (BHA)\"\n",
    "G112[\"Room\"] = \"G112 (BHA)\"\n",
    "Computers[\"Room\"] = \"Computers (BHA)\"\n",
    "Evergreen[\"Room\"] = \"Evergreen (BHA)\"\n",
    "Maple[\"Room\"] = \"Maple (BHA)\""
   ]
  },
  {
   "cell_type": "code",
   "execution_count": 81,
   "metadata": {
    "collapsed": false
   },
   "outputs": [
    {
     "name": "stdout",
     "output_type": "stream",
     "text": [
      "3976\n"
     ]
    }
   ],
   "source": [
    "mapleCount = 0\n",
    "for x in [G111,G112,Computers,Evergreen,Maple]:\n",
    "    mapleCount+=len(x)\n",
    "    \n",
    "print(mapleCount)"
   ]
  },
  {
   "cell_type": "code",
   "execution_count": 83,
   "metadata": {
    "collapsed": false
   },
   "outputs": [],
   "source": [
    "Maple = pd.concat([G111,G112,Computers,Evergreen,Maple])"
   ]
  },
  {
   "cell_type": "markdown",
   "metadata": {},
   "source": [
    "# 316 Confrence Room "
   ]
  },
  {
   "cell_type": "code",
   "execution_count": 84,
   "metadata": {
    "collapsed": false
   },
   "outputs": [
    {
     "data": {
      "text/plain": [
       "['.DS_Store',\n",
       " '.ipynb_checkpoints',\n",
       " '101316 Conference Room Schedules.ipynb',\n",
       " 'Conf Rm - C225 (Crest)',\n",
       " 'Conf Rm - D102 (MaintReady Room)',\n",
       " 'Conf Rm - District Counsel (HQ)',\n",
       " 'Conf Rm -S103 (1).xls',\n",
       " 'Conf Rom - B228 (Admin) RESTRICTED',\n",
       " 'Conf. Rm R-316 Rinc.xls',\n",
       " 'Training Room - Maple (BHA)']"
      ]
     },
     "execution_count": 84,
     "metadata": {},
     "output_type": "execute_result"
    }
   ],
   "source": [
    "os.chdir(\"/Users/adeniyiharrison/Desktop/Outlook Scheduling\")\n",
    "os.listdir()"
   ]
  },
  {
   "cell_type": "code",
   "execution_count": 86,
   "metadata": {
    "collapsed": false
   },
   "outputs": [
    {
     "name": "stdout",
     "output_type": "stream",
     "text": [
      "WARNING *** OLE2 inconsistency: SSCS size is 0 but SSAT size is non-zero\n"
     ]
    }
   ],
   "source": [
    "conf316 = pd.read_excel(\"Conf. Rm R-316 Rinc.xls\")"
   ]
  },
  {
   "cell_type": "code",
   "execution_count": 87,
   "metadata": {
    "collapsed": true
   },
   "outputs": [],
   "source": [
    "conf316[\"Room\"] = \"R-316 Rinc\""
   ]
  },
  {
   "cell_type": "code",
   "execution_count": 89,
   "metadata": {
    "collapsed": false
   },
   "outputs": [
    {
     "name": "stdout",
     "output_type": "stream",
     "text": [
      "<class 'pandas.core.frame.DataFrame'>\n",
      "Int64Index: 22 entries, 0 to 21\n",
      "Data columns (total 23 columns):\n",
      "Subject               22 non-null object\n",
      "StartDate             22 non-null object\n",
      "StartTime             22 non-null object\n",
      "EndDate               22 non-null object\n",
      "EndTime               22 non-null object\n",
      "Alldayevent           22 non-null bool\n",
      "Reminderonoff         22 non-null bool\n",
      "ReminderDate          22 non-null object\n",
      "ReminderTime          22 non-null object\n",
      "MeetingOrganizer      0 non-null float64\n",
      "RequiredAttendees     0 non-null float64\n",
      "OptionalAttendees     0 non-null float64\n",
      "MeetingResources      0 non-null float64\n",
      "BillingInformation    0 non-null float64\n",
      "Categories            0 non-null float64\n",
      "Description           22 non-null object\n",
      "Location              22 non-null object\n",
      "Mileage               0 non-null float64\n",
      "Priority              22 non-null object\n",
      "Private               22 non-null bool\n",
      "Sensitivity           22 non-null object\n",
      "Showtimeas            22 non-null int64\n",
      "Room                  22 non-null object\n",
      "dtypes: bool(3), float64(7), int64(1), object(12)\n",
      "memory usage: 3.7+ KB\n"
     ]
    }
   ],
   "source": [
    "conf316.info()"
   ]
  },
  {
   "cell_type": "markdown",
   "metadata": {},
   "source": [
    "# ALL COMBINE"
   ]
  },
  {
   "cell_type": "code",
   "execution_count": 91,
   "metadata": {
    "collapsed": false
   },
   "outputs": [
    {
     "name": "stdout",
     "output_type": "stream",
     "text": [
      "26262\n"
     ]
    }
   ],
   "source": [
    "allCount = 0\n",
    "for x in [Crest,Maintainance,HQ,Admin,Maple,conf316]:\n",
    "    allCount+=len(x)\n",
    "    \n",
    "print(allCount)"
   ]
  },
  {
   "cell_type": "code",
   "execution_count": 93,
   "metadata": {
    "collapsed": false
   },
   "outputs": [
    {
     "name": "stdout",
     "output_type": "stream",
     "text": [
      "<class 'pandas.core.frame.DataFrame'>\n",
      "Int64Index: 26262 entries, 0 to 21\n",
      "Data columns (total 23 columns):\n",
      "Subject               26199 non-null object\n",
      "StartDate             26262 non-null object\n",
      "StartTime             26262 non-null object\n",
      "EndDate               26262 non-null object\n",
      "EndTime               26262 non-null object\n",
      "Alldayevent           26262 non-null bool\n",
      "Reminderonoff         26262 non-null bool\n",
      "ReminderDate          26261 non-null object\n",
      "ReminderTime          26261 non-null object\n",
      "MeetingOrganizer      7197 non-null object\n",
      "RequiredAttendees     10554 non-null object\n",
      "OptionalAttendees     1572 non-null object\n",
      "MeetingResources      4940 non-null object\n",
      "BillingInformation    0 non-null float64\n",
      "Categories            3592 non-null object\n",
      "Description           19850 non-null object\n",
      "Location              19353 non-null object\n",
      "Mileage               0 non-null float64\n",
      "Priority              26262 non-null object\n",
      "Private               26262 non-null bool\n",
      "Sensitivity           26262 non-null object\n",
      "Showtimeas            26262 non-null int64\n",
      "Room                  26262 non-null object\n",
      "dtypes: bool(3), float64(2), int64(1), object(17)\n",
      "memory usage: 4.3+ MB\n"
     ]
    }
   ],
   "source": [
    "schedulingData.info()"
   ]
  },
  {
   "cell_type": "code",
   "execution_count": 92,
   "metadata": {
    "collapsed": false
   },
   "outputs": [],
   "source": [
    "schedulingData = pd.concat([Crest,Maintainance,HQ,Admin,Maple,conf316])"
   ]
  },
  {
   "cell_type": "code",
   "execution_count": 94,
   "metadata": {
    "collapsed": true
   },
   "outputs": [],
   "source": [
    "schedulingData.to_csv(\"Outlook Scheduling Data.csv\")"
   ]
  },
  {
   "cell_type": "markdown",
   "metadata": {},
   "source": [
    "# Date/Time Data Cleaning"
   ]
  },
  {
   "cell_type": "code",
   "execution_count": 95,
   "metadata": {
    "collapsed": false
   },
   "outputs": [
    {
     "data": {
      "text/html": [
       "<div>\n",
       "<table border=\"1\" class=\"dataframe\">\n",
       "  <thead>\n",
       "    <tr style=\"text-align: right;\">\n",
       "      <th></th>\n",
       "      <th>Subject</th>\n",
       "      <th>StartDate</th>\n",
       "      <th>StartTime</th>\n",
       "      <th>EndDate</th>\n",
       "      <th>EndTime</th>\n",
       "      <th>Alldayevent</th>\n",
       "      <th>Reminderonoff</th>\n",
       "      <th>ReminderDate</th>\n",
       "      <th>ReminderTime</th>\n",
       "      <th>MeetingOrganizer</th>\n",
       "      <th>...</th>\n",
       "      <th>BillingInformation</th>\n",
       "      <th>Categories</th>\n",
       "      <th>Description</th>\n",
       "      <th>Location</th>\n",
       "      <th>Mileage</th>\n",
       "      <th>Priority</th>\n",
       "      <th>Private</th>\n",
       "      <th>Sensitivity</th>\n",
       "      <th>Showtimeas</th>\n",
       "      <th>Room</th>\n",
       "    </tr>\n",
       "  </thead>\n",
       "  <tbody>\n",
       "    <tr>\n",
       "      <th>0</th>\n",
       "      <td>Reserved for Halloween Event</td>\n",
       "      <td>10/31/2016</td>\n",
       "      <td>9:00:00 AM</td>\n",
       "      <td>10/31/2016</td>\n",
       "      <td>4:00:00 PM</td>\n",
       "      <td>False</td>\n",
       "      <td>True</td>\n",
       "      <td>10/31/2016</td>\n",
       "      <td>8:45:00 AM</td>\n",
       "      <td>NaN</td>\n",
       "      <td>...</td>\n",
       "      <td>NaN</td>\n",
       "      <td>NaN</td>\n",
       "      <td>\\r\\n</td>\n",
       "      <td>.Conf Rm - C209 (Crest) RESTRICTED</td>\n",
       "      <td>NaN</td>\n",
       "      <td>Normal</td>\n",
       "      <td>False</td>\n",
       "      <td>Normal</td>\n",
       "      <td>2</td>\n",
       "      <td>C209</td>\n",
       "    </tr>\n",
       "    <tr>\n",
       "      <th>1</th>\n",
       "      <td>Webinar: Structured Hiring Panel</td>\n",
       "      <td>9/27/2016</td>\n",
       "      <td>11:00:00 AM</td>\n",
       "      <td>9/27/2016</td>\n",
       "      <td>12:00:00 PM</td>\n",
       "      <td>False</td>\n",
       "      <td>True</td>\n",
       "      <td>9/27/2016</td>\n",
       "      <td>10:45:00 AM</td>\n",
       "      <td>NaN</td>\n",
       "      <td>...</td>\n",
       "      <td>NaN</td>\n",
       "      <td>NaN</td>\n",
       "      <td>Dear Peggy, \\r\\nThank you for registering for ...</td>\n",
       "      <td>.Conf Rm - C209 (Crest) RESTRICTED</td>\n",
       "      <td>NaN</td>\n",
       "      <td>Normal</td>\n",
       "      <td>False</td>\n",
       "      <td>Normal</td>\n",
       "      <td>3</td>\n",
       "      <td>C209</td>\n",
       "    </tr>\n",
       "    <tr>\n",
       "      <th>2</th>\n",
       "      <td>Review New Budget Process - Nancy x2358</td>\n",
       "      <td>9/21/2016</td>\n",
       "      <td>4:00:00 PM</td>\n",
       "      <td>9/21/2016</td>\n",
       "      <td>5:00:00 PM</td>\n",
       "      <td>False</td>\n",
       "      <td>True</td>\n",
       "      <td>9/21/2016</td>\n",
       "      <td>3:45:00 PM</td>\n",
       "      <td>NaN</td>\n",
       "      <td>...</td>\n",
       "      <td>NaN</td>\n",
       "      <td>NaN</td>\n",
       "      <td>\\r\\n</td>\n",
       "      <td>NaN</td>\n",
       "      <td>NaN</td>\n",
       "      <td>Normal</td>\n",
       "      <td>False</td>\n",
       "      <td>Normal</td>\n",
       "      <td>2</td>\n",
       "      <td>C209</td>\n",
       "    </tr>\n",
       "    <tr>\n",
       "      <th>3</th>\n",
       "      <td>Sherilyn x2772</td>\n",
       "      <td>10/18/2016</td>\n",
       "      <td>10:30:00 AM</td>\n",
       "      <td>10/18/2016</td>\n",
       "      <td>11:30:00 AM</td>\n",
       "      <td>False</td>\n",
       "      <td>True</td>\n",
       "      <td>10/18/2016</td>\n",
       "      <td>10:25:00 AM</td>\n",
       "      <td>NaN</td>\n",
       "      <td>...</td>\n",
       "      <td>NaN</td>\n",
       "      <td>NaN</td>\n",
       "      <td>\\r\\n</td>\n",
       "      <td>NaN</td>\n",
       "      <td>NaN</td>\n",
       "      <td>Normal</td>\n",
       "      <td>False</td>\n",
       "      <td>Normal</td>\n",
       "      <td>2</td>\n",
       "      <td>C209</td>\n",
       "    </tr>\n",
       "    <tr>\n",
       "      <th>4</th>\n",
       "      <td>Technology needs for Recruitment Team</td>\n",
       "      <td>9/28/2016</td>\n",
       "      <td>9:00:00 AM</td>\n",
       "      <td>9/28/2016</td>\n",
       "      <td>10:00:00 AM</td>\n",
       "      <td>False</td>\n",
       "      <td>True</td>\n",
       "      <td>9/28/2016</td>\n",
       "      <td>8:45:00 AM</td>\n",
       "      <td>NaN</td>\n",
       "      <td>...</td>\n",
       "      <td>NaN</td>\n",
       "      <td>NaN</td>\n",
       "      <td>\\r\\n</td>\n",
       "      <td>.Conf Rm - C209 (Crest) RESTRICTED</td>\n",
       "      <td>NaN</td>\n",
       "      <td>Normal</td>\n",
       "      <td>False</td>\n",
       "      <td>Normal</td>\n",
       "      <td>2</td>\n",
       "      <td>C209</td>\n",
       "    </tr>\n",
       "  </tbody>\n",
       "</table>\n",
       "<p>5 rows × 23 columns</p>\n",
       "</div>"
      ],
      "text/plain": [
       "                                   Subject   StartDate    StartTime  \\\n",
       "0             Reserved for Halloween Event  10/31/2016   9:00:00 AM   \n",
       "1         Webinar: Structured Hiring Panel   9/27/2016  11:00:00 AM   \n",
       "2  Review New Budget Process - Nancy x2358   9/21/2016   4:00:00 PM   \n",
       "3                           Sherilyn x2772  10/18/2016  10:30:00 AM   \n",
       "4    Technology needs for Recruitment Team   9/28/2016   9:00:00 AM   \n",
       "\n",
       "      EndDate      EndTime Alldayevent Reminderonoff ReminderDate  \\\n",
       "0  10/31/2016   4:00:00 PM       False          True   10/31/2016   \n",
       "1   9/27/2016  12:00:00 PM       False          True    9/27/2016   \n",
       "2   9/21/2016   5:00:00 PM       False          True    9/21/2016   \n",
       "3  10/18/2016  11:30:00 AM       False          True   10/18/2016   \n",
       "4   9/28/2016  10:00:00 AM       False          True    9/28/2016   \n",
       "\n",
       "  ReminderTime MeetingOrganizer  ...  BillingInformation Categories  \\\n",
       "0   8:45:00 AM              NaN  ...                 NaN        NaN   \n",
       "1  10:45:00 AM              NaN  ...                 NaN        NaN   \n",
       "2   3:45:00 PM              NaN  ...                 NaN        NaN   \n",
       "3  10:25:00 AM              NaN  ...                 NaN        NaN   \n",
       "4   8:45:00 AM              NaN  ...                 NaN        NaN   \n",
       "\n",
       "                                         Description  \\\n",
       "0                                               \\r\\n   \n",
       "1  Dear Peggy, \\r\\nThank you for registering for ...   \n",
       "2                                               \\r\\n   \n",
       "3                                               \\r\\n   \n",
       "4                                               \\r\\n   \n",
       "\n",
       "                             Location Mileage Priority Private  Sensitivity  \\\n",
       "0  .Conf Rm - C209 (Crest) RESTRICTED     NaN   Normal   False       Normal   \n",
       "1  .Conf Rm - C209 (Crest) RESTRICTED     NaN   Normal   False       Normal   \n",
       "2                                 NaN     NaN   Normal   False       Normal   \n",
       "3                                 NaN     NaN   Normal   False       Normal   \n",
       "4  .Conf Rm - C209 (Crest) RESTRICTED     NaN   Normal   False       Normal   \n",
       "\n",
       "  Showtimeas  Room  \n",
       "0          2  C209  \n",
       "1          3  C209  \n",
       "2          2  C209  \n",
       "3          2  C209  \n",
       "4          2  C209  \n",
       "\n",
       "[5 rows x 23 columns]"
      ]
     },
     "execution_count": 95,
     "metadata": {},
     "output_type": "execute_result"
    }
   ],
   "source": [
    "schedulingData.head()"
   ]
  },
  {
   "cell_type": "code",
   "execution_count": 97,
   "metadata": {
    "collapsed": false
   },
   "outputs": [],
   "source": [
    "df=schedulingData.copy()"
   ]
  },
  {
   "cell_type": "code",
   "execution_count": 122,
   "metadata": {
    "collapsed": false
   },
   "outputs": [
    {
     "data": {
      "text/plain": [
       "datetime.date(2016, 10, 31)"
      ]
     },
     "execution_count": 122,
     "metadata": {},
     "output_type": "execute_result"
    }
   ],
   "source": [
    "datetime.datetime.strptime(df[\"StartDate\"].iloc[0], \"%m/%d/%Y\").date()"
   ]
  },
  {
   "cell_type": "markdown",
   "metadata": {},
   "source": [
    "### Format start and end dates"
   ]
  },
  {
   "cell_type": "code",
   "execution_count": 124,
   "metadata": {
    "collapsed": false
   },
   "outputs": [],
   "source": [
    "formatStartDate=[]\n",
    "for x in df[\"StartDate\"]:\n",
    "    formatStartDate.append(datetime.datetime.strptime(x,\"%m/%d/%Y\").date())"
   ]
  },
  {
   "cell_type": "code",
   "execution_count": 127,
   "metadata": {
    "collapsed": false
   },
   "outputs": [],
   "source": [
    "formatEndDate=[]\n",
    "for x in df[\"EndDate\"]:\n",
    "    formatEndDate.append(datetime.datetime.strptime(x,\"%m/%d/%Y\").date())"
   ]
  },
  {
   "cell_type": "markdown",
   "metadata": {},
   "source": [
    "### Format start and end times"
   ]
  },
  {
   "cell_type": "code",
   "execution_count": 210,
   "metadata": {
    "collapsed": false
   },
   "outputs": [],
   "source": [
    "formatStartTime = []\n",
    "for x in df[\"StartTime\"]:\n",
    "    formatStartTime.append(datetime.datetime.strptime(x, '%I:%M:%S %p').time())"
   ]
  },
  {
   "cell_type": "code",
   "execution_count": 211,
   "metadata": {
    "collapsed": false
   },
   "outputs": [],
   "source": [
    "formatEndTime = []\n",
    "for x in df[\"EndTime\"]:\n",
    "    formatEndTime.append(datetime.datetime.strptime(x, '%I:%M:%S %p').time())"
   ]
  },
  {
   "cell_type": "markdown",
   "metadata": {},
   "source": [
    "### Combine dates and times"
   ]
  },
  {
   "cell_type": "code",
   "execution_count": 214,
   "metadata": {
    "collapsed": false
   },
   "outputs": [],
   "source": [
    "formatStartDateTime=[]\n",
    "for x in range(len(formatStartTime)):\n",
    "    formatStartDateTime.append(datetime.datetime.combine(formatStartDate[x],formatStartTime[x]))"
   ]
  },
  {
   "cell_type": "code",
   "execution_count": 215,
   "metadata": {
    "collapsed": true
   },
   "outputs": [],
   "source": [
    "formatEndDateTime=[]\n",
    "for x in range(len(formatEndTime)):\n",
    "    formatEndDateTime.append(datetime.datetime.combine(formatEndDate[x],formatEndTime[x]))"
   ]
  },
  {
   "cell_type": "markdown",
   "metadata": {},
   "source": [
    "### Add formatted Date and Time to dataframe"
   ]
  },
  {
   "cell_type": "code",
   "execution_count": 216,
   "metadata": {
    "collapsed": true
   },
   "outputs": [],
   "source": [
    "df[\"Clean Start DateTime\"] = formatStartDateTime\n",
    "df[\"Clean End DateTime\"] = formatEndDateTime"
   ]
  },
  {
   "cell_type": "markdown",
   "metadata": {},
   "source": [
    "### Calculate Meeting Length"
   ]
  },
  {
   "cell_type": "code",
   "execution_count": 220,
   "metadata": {
    "collapsed": true
   },
   "outputs": [],
   "source": [
    "df[\"Meeting Length\"] = df[\"Clean End DateTime\"] - df[\"Clean Start DateTime\"]"
   ]
  },
  {
   "cell_type": "code",
   "execution_count": 234,
   "metadata": {
    "collapsed": false
   },
   "outputs": [
    {
     "data": {
      "text/plain": [
       "Timedelta('0 days 06:23:45.257025')"
      ]
     },
     "execution_count": 234,
     "metadata": {},
     "output_type": "execute_result"
    }
   ],
   "source": [
    "df[\"Meeting Length\"].mean()"
   ]
  },
  {
   "cell_type": "code",
   "execution_count": 239,
   "metadata": {
    "collapsed": false
   },
   "outputs": [
    {
     "data": {
      "text/plain": [
       "Timestamp('2015-06-11 07:00:00')"
      ]
     },
     "execution_count": 239,
     "metadata": {},
     "output_type": "execute_result"
    }
   ],
   "source": [
    "df[\"Clean Start DateTime\"].min()"
   ]
  },
  {
   "cell_type": "code",
   "execution_count": 240,
   "metadata": {
    "collapsed": false
   },
   "outputs": [
    {
     "data": {
      "text/plain": [
       "Timestamp('2016-12-01 17:00:00')"
      ]
     },
     "execution_count": 240,
     "metadata": {},
     "output_type": "execute_result"
    }
   ],
   "source": [
    "df[\"Clean Start DateTime\"].max()"
   ]
  },
  {
   "cell_type": "markdown",
   "metadata": {},
   "source": [
    "# Calculate Number of Occupants per Meeting"
   ]
  },
  {
   "cell_type": "code",
   "execution_count": 251,
   "metadata": {
    "collapsed": false
   },
   "outputs": [
    {
     "data": {
      "text/html": [
       "<div>\n",
       "<table border=\"1\" class=\"dataframe\">\n",
       "  <thead>\n",
       "    <tr style=\"text-align: right;\">\n",
       "      <th></th>\n",
       "      <th>RequiredAttendees</th>\n",
       "      <th>OptionalAttendees</th>\n",
       "    </tr>\n",
       "  </thead>\n",
       "  <tbody>\n",
       "    <tr>\n",
       "      <th>0</th>\n",
       "      <td>NaN</td>\n",
       "      <td>NaN</td>\n",
       "    </tr>\n",
       "    <tr>\n",
       "      <th>1</th>\n",
       "      <td>Courtney Letts;Debra Williams;Dolores Grissom;...</td>\n",
       "      <td>NaN</td>\n",
       "    </tr>\n",
       "    <tr>\n",
       "      <th>2</th>\n",
       "      <td>NaN</td>\n",
       "      <td>NaN</td>\n",
       "    </tr>\n",
       "    <tr>\n",
       "      <th>3</th>\n",
       "      <td>NaN</td>\n",
       "      <td>NaN</td>\n",
       "    </tr>\n",
       "    <tr>\n",
       "      <th>4</th>\n",
       "      <td>Sudhanshu Tikekar;Courtney Letts;Gauri Khanna;...</td>\n",
       "      <td>NaN</td>\n",
       "    </tr>\n",
       "  </tbody>\n",
       "</table>\n",
       "</div>"
      ],
      "text/plain": [
       "                                   RequiredAttendees OptionalAttendees\n",
       "0                                                NaN               NaN\n",
       "1  Courtney Letts;Debra Williams;Dolores Grissom;...               NaN\n",
       "2                                                NaN               NaN\n",
       "3                                                NaN               NaN\n",
       "4  Sudhanshu Tikekar;Courtney Letts;Gauri Khanna;...               NaN"
      ]
     },
     "execution_count": 251,
     "metadata": {},
     "output_type": "execute_result"
    }
   ],
   "source": [
    "df[[\"RequiredAttendees\",\"OptionalAttendees\"]].head()"
   ]
  },
  {
   "cell_type": "code",
   "execution_count": 270,
   "metadata": {
    "collapsed": false
   },
   "outputs": [
    {
     "data": {
      "text/plain": [
       "['Courtney Letts',\n",
       " 'Debra Williams',\n",
       " 'Dolores Grissom',\n",
       " 'Gauri Khanna',\n",
       " 'Sherry Smith']"
      ]
     },
     "execution_count": 270,
     "metadata": {},
     "output_type": "execute_result"
    }
   ],
   "source": [
    "df[\"RequiredAttendees\"].iloc[1].split(\";\")"
   ]
  },
  {
   "cell_type": "code",
   "execution_count": 295,
   "metadata": {
    "collapsed": false
   },
   "outputs": [
    {
     "data": {
      "text/plain": [
       "True"
      ]
     },
     "execution_count": 295,
     "metadata": {},
     "output_type": "execute_result"
    }
   ],
   "source": [
    "df[\"RequiredAttendees\"].iloc[0] == "
   ]
  },
  {
   "cell_type": "code",
   "execution_count": 263,
   "metadata": {
    "collapsed": false
   },
   "outputs": [
    {
     "data": {
      "text/plain": [
       "str"
      ]
     },
     "execution_count": 263,
     "metadata": {},
     "output_type": "execute_result"
    }
   ],
   "source": [
    "type(df[\"RequiredAttendees\"].iloc[1])"
   ]
  },
  {
   "cell_type": "code",
   "execution_count": 302,
   "metadata": {
    "collapsed": false
   },
   "outputs": [
    {
     "data": {
      "text/plain": [
       "[nan, 5, nan, nan, 4]"
      ]
     },
     "execution_count": 302,
     "metadata": {},
     "output_type": "execute_result"
    }
   ],
   "source": [
    "requiredCount=[]\n",
    "for x in df[\"RequiredAttendees\"]:\n",
    "    try:\n",
    "        requiredCount.append(len(x.split(\";\")))\n",
    "    except:\n",
    "        requiredCount.append(np.nan)\n",
    "        \n",
    "requiredCount[:5]"
   ]
  },
  {
   "cell_type": "code",
   "execution_count": 303,
   "metadata": {
    "collapsed": false
   },
   "outputs": [
    {
     "data": {
      "text/plain": [
       "[nan, nan, nan, nan, nan]"
      ]
     },
     "execution_count": 303,
     "metadata": {},
     "output_type": "execute_result"
    }
   ],
   "source": [
    "optionalCount = []\n",
    "for x in df[\"OptionalAttendees\"]:\n",
    "    try:\n",
    "        optionalCount.append(len(x.split(\";\")))\n",
    "    except:\n",
    "        optionalCount.append(np.nan)\n",
    "\n",
    "optionalCount[:5]"
   ]
  },
  {
   "cell_type": "code",
   "execution_count": 304,
   "metadata": {
    "collapsed": true
   },
   "outputs": [],
   "source": [
    "df[\"Required Count\"] = requiredCount\n",
    "df[\"Optional Count\"] = optionalCount"
   ]
  },
  {
   "cell_type": "code",
   "execution_count": 602,
   "metadata": {
    "collapsed": false
   },
   "outputs": [],
   "source": [
    "df[\"Total Members\"] = df[\"Total Members\"] = df[\"Required Count\"].fillna(0)+df[\"Optional Count\"].fillna(0)+1"
   ]
  },
  {
   "cell_type": "markdown",
   "metadata": {},
   "source": [
    "# Remove and Rearrange Columns"
   ]
  },
  {
   "cell_type": "code",
   "execution_count": 319,
   "metadata": {
    "collapsed": false
   },
   "outputs": [],
   "source": [
    "df=df.drop([\"Alldayevent\",\"Reminderonoff\",\"ReminderDate\",\"ReminderTime\",\"MeetingOrganizer\",\"BillingInformation\",\"Categories\",\"Description\",\"Mileage\",\"Showtimeas\"],axis=1)\n",
    "\n",
    "columns = [\"Room\",\"Subject\",\"Clean Start DateTime\",\"Clean End DateTime\",\"Meeting Length\",\n",
    "              \"Required Count\",\"Optional Count\",\"Total Members\",\"Location\",\"RequiredAttendees\",\"OptionalAttendees\",\n",
    "             \"Subject\",\"StartDate\",\"StartTime\",\"EndDate\",\"EndTime\",\"Priority\",\"Private\",\"Sensitivity\"]\n",
    "\n",
    "df=df[columns]"
   ]
  },
  {
   "cell_type": "markdown",
   "metadata": {},
   "source": [
    "# Trip data to one year"
   ]
  },
  {
   "cell_type": "code",
   "execution_count": 351,
   "metadata": {
    "collapsed": false
   },
   "outputs": [
    {
     "data": {
      "text/plain": [
       "Timestamp('2015-06-11 07:00:00')"
      ]
     },
     "execution_count": 351,
     "metadata": {},
     "output_type": "execute_result"
    }
   ],
   "source": [
    "df[\"Clean Start DateTime\"].min()"
   ]
  },
  {
   "cell_type": "code",
   "execution_count": 352,
   "metadata": {
    "collapsed": false
   },
   "outputs": [
    {
     "data": {
      "text/plain": [
       "Timestamp('2016-12-02 00:00:00')"
      ]
     },
     "execution_count": 352,
     "metadata": {},
     "output_type": "execute_result"
    }
   ],
   "source": [
    "df[\"Clean End DateTime\"].max()"
   ]
  },
  {
   "cell_type": "markdown",
   "metadata": {},
   "source": [
    "### Date range between 10/13/15 and 10/13/16"
   ]
  },
  {
   "cell_type": "code",
   "execution_count": 364,
   "metadata": {
    "collapsed": false
   },
   "outputs": [
    {
     "name": "stderr",
     "output_type": "stream",
     "text": [
      "//anaconda/lib/python3.5/site-packages/ipykernel/__main__.py:1: FutureWarning: sort(columns=....) is deprecated, use sort_values(by=.....)\n",
      "  if __name__ == '__main__':\n"
     ]
    }
   ],
   "source": [
    "df=df.sort([\"Clean Start DateTime\",\"Clean End DateTime\"],ascending = [True,False])"
   ]
  },
  {
   "cell_type": "code",
   "execution_count": 366,
   "metadata": {
    "collapsed": false
   },
   "outputs": [],
   "source": [
    "df=df[(df[\"Clean Start DateTime\"] >= \"2015-10-13\") & (df[\"Clean End DateTime\"] <= \"2016-10-13\")]"
   ]
  },
  {
   "cell_type": "code",
   "execution_count": 370,
   "metadata": {
    "collapsed": false
   },
   "outputs": [
    {
     "data": {
      "text/html": [
       "<div>\n",
       "<table border=\"1\" class=\"dataframe\">\n",
       "  <thead>\n",
       "    <tr style=\"text-align: right;\">\n",
       "      <th></th>\n",
       "      <th>Room</th>\n",
       "      <th>Subject</th>\n",
       "      <th>Clean Start DateTime</th>\n",
       "      <th>Clean End DateTime</th>\n",
       "      <th>Meeting Length</th>\n",
       "      <th>Required Count</th>\n",
       "      <th>Optional Count</th>\n",
       "      <th>Total Members</th>\n",
       "      <th>Location</th>\n",
       "      <th>RequiredAttendees</th>\n",
       "      <th>OptionalAttendees</th>\n",
       "      <th>Subject</th>\n",
       "      <th>StartDate</th>\n",
       "      <th>StartTime</th>\n",
       "      <th>EndDate</th>\n",
       "      <th>EndTime</th>\n",
       "      <th>Priority</th>\n",
       "      <th>Private</th>\n",
       "      <th>Sensitivity</th>\n",
       "    </tr>\n",
       "  </thead>\n",
       "  <tbody>\n",
       "    <tr>\n",
       "      <th>0</th>\n",
       "      <td>D102</td>\n",
       "      <td>Lenovo, Projector, Flatscreen</td>\n",
       "      <td>2015-10-13</td>\n",
       "      <td>2015-10-14</td>\n",
       "      <td>1 days</td>\n",
       "      <td>NaN</td>\n",
       "      <td>NaN</td>\n",
       "      <td>0</td>\n",
       "      <td>NaN</td>\n",
       "      <td>NaN</td>\n",
       "      <td>NaN</td>\n",
       "      <td>Lenovo, Projector, Flatscreen</td>\n",
       "      <td>10/13/2015</td>\n",
       "      <td>12:00:00 AM</td>\n",
       "      <td>10/14/2015</td>\n",
       "      <td>12:00:00 AM</td>\n",
       "      <td>Normal</td>\n",
       "      <td>False</td>\n",
       "      <td>Normal</td>\n",
       "    </tr>\n",
       "    <tr>\n",
       "      <th>1</th>\n",
       "      <td>A136 (HQ)</td>\n",
       "      <td>Capacity: 10-16</td>\n",
       "      <td>2015-10-13</td>\n",
       "      <td>2015-10-14</td>\n",
       "      <td>1 days</td>\n",
       "      <td>NaN</td>\n",
       "      <td>NaN</td>\n",
       "      <td>0</td>\n",
       "      <td>Ext. 2001</td>\n",
       "      <td>NaN</td>\n",
       "      <td>NaN</td>\n",
       "      <td>Capacity: 10-16</td>\n",
       "      <td>10/13/2015</td>\n",
       "      <td>12:00:00 AM</td>\n",
       "      <td>10/14/2015</td>\n",
       "      <td>12:00:00 AM</td>\n",
       "      <td>Normal</td>\n",
       "      <td>False</td>\n",
       "      <td>Normal</td>\n",
       "    </tr>\n",
       "    <tr>\n",
       "      <th>2</th>\n",
       "      <td>A168 (HQ)</td>\n",
       "      <td>PC, Projector</td>\n",
       "      <td>2015-10-13</td>\n",
       "      <td>2015-10-14</td>\n",
       "      <td>1 days</td>\n",
       "      <td>NaN</td>\n",
       "      <td>NaN</td>\n",
       "      <td>0</td>\n",
       "      <td>NaN</td>\n",
       "      <td>NaN</td>\n",
       "      <td>NaN</td>\n",
       "      <td>PC, Projector</td>\n",
       "      <td>10/13/2015</td>\n",
       "      <td>12:00:00 AM</td>\n",
       "      <td>10/14/2015</td>\n",
       "      <td>12:00:00 AM</td>\n",
       "      <td>Normal</td>\n",
       "      <td>False</td>\n",
       "      <td>Normal</td>\n",
       "    </tr>\n",
       "    <tr>\n",
       "      <th>3</th>\n",
       "      <td>A168 (HQ)</td>\n",
       "      <td>Ext. 2593-Capacity 10-12 -Reserve thru, Rita (...</td>\n",
       "      <td>2015-10-13</td>\n",
       "      <td>2015-10-14</td>\n",
       "      <td>1 days</td>\n",
       "      <td>NaN</td>\n",
       "      <td>NaN</td>\n",
       "      <td>0</td>\n",
       "      <td>Polycom, Lenovo, Projector</td>\n",
       "      <td>NaN</td>\n",
       "      <td>NaN</td>\n",
       "      <td>Ext. 2593-Capacity 10-12 -Reserve thru, Rita (...</td>\n",
       "      <td>10/13/2015</td>\n",
       "      <td>12:00:00 AM</td>\n",
       "      <td>10/14/2015</td>\n",
       "      <td>12:00:00 AM</td>\n",
       "      <td>Normal</td>\n",
       "      <td>False</td>\n",
       "      <td>Normal</td>\n",
       "    </tr>\n",
       "    <tr>\n",
       "      <th>4</th>\n",
       "      <td>A236 (HQ)</td>\n",
       "      <td>Ext. 2699 - Capacity 10-12</td>\n",
       "      <td>2015-10-13</td>\n",
       "      <td>2015-10-14</td>\n",
       "      <td>1 days</td>\n",
       "      <td>NaN</td>\n",
       "      <td>NaN</td>\n",
       "      <td>0</td>\n",
       "      <td>NaN</td>\n",
       "      <td>NaN</td>\n",
       "      <td>NaN</td>\n",
       "      <td>Ext. 2699 - Capacity 10-12</td>\n",
       "      <td>10/13/2015</td>\n",
       "      <td>12:00:00 AM</td>\n",
       "      <td>10/14/2015</td>\n",
       "      <td>12:00:00 AM</td>\n",
       "      <td>Normal</td>\n",
       "      <td>False</td>\n",
       "      <td>Normal</td>\n",
       "    </tr>\n",
       "  </tbody>\n",
       "</table>\n",
       "</div>"
      ],
      "text/plain": [
       "        Room                                            Subject  \\\n",
       "0       D102                      Lenovo, Projector, Flatscreen   \n",
       "1  A136 (HQ)                                    Capacity: 10-16   \n",
       "2  A168 (HQ)                                      PC, Projector   \n",
       "3  A168 (HQ)  Ext. 2593-Capacity 10-12 -Reserve thru, Rita (...   \n",
       "4  A236 (HQ)                         Ext. 2699 - Capacity 10-12   \n",
       "\n",
       "  Clean Start DateTime Clean End DateTime  Meeting Length  Required Count  \\\n",
       "0           2015-10-13         2015-10-14          1 days             NaN   \n",
       "1           2015-10-13         2015-10-14          1 days             NaN   \n",
       "2           2015-10-13         2015-10-14          1 days             NaN   \n",
       "3           2015-10-13         2015-10-14          1 days             NaN   \n",
       "4           2015-10-13         2015-10-14          1 days             NaN   \n",
       "\n",
       "   Optional Count  Total Members                    Location  \\\n",
       "0             NaN              0                         NaN   \n",
       "1             NaN              0                   Ext. 2001   \n",
       "2             NaN              0                         NaN   \n",
       "3             NaN              0  Polycom, Lenovo, Projector   \n",
       "4             NaN              0                         NaN   \n",
       "\n",
       "  RequiredAttendees OptionalAttendees  \\\n",
       "0               NaN               NaN   \n",
       "1               NaN               NaN   \n",
       "2               NaN               NaN   \n",
       "3               NaN               NaN   \n",
       "4               NaN               NaN   \n",
       "\n",
       "                                             Subject   StartDate    StartTime  \\\n",
       "0                      Lenovo, Projector, Flatscreen  10/13/2015  12:00:00 AM   \n",
       "1                                    Capacity: 10-16  10/13/2015  12:00:00 AM   \n",
       "2                                      PC, Projector  10/13/2015  12:00:00 AM   \n",
       "3  Ext. 2593-Capacity 10-12 -Reserve thru, Rita (...  10/13/2015  12:00:00 AM   \n",
       "4                         Ext. 2699 - Capacity 10-12  10/13/2015  12:00:00 AM   \n",
       "\n",
       "      EndDate      EndTime Priority Private Sensitivity  \n",
       "0  10/14/2015  12:00:00 AM   Normal   False      Normal  \n",
       "1  10/14/2015  12:00:00 AM   Normal   False      Normal  \n",
       "2  10/14/2015  12:00:00 AM   Normal   False      Normal  \n",
       "3  10/14/2015  12:00:00 AM   Normal   False      Normal  \n",
       "4  10/14/2015  12:00:00 AM   Normal   False      Normal  "
      ]
     },
     "execution_count": 370,
     "metadata": {},
     "output_type": "execute_result"
    }
   ],
   "source": [
    "df=df.reset_index()\n",
    "df.drop(\"index\",axis=1,inplace=True)\n",
    "df.head()"
   ]
  },
  {
   "cell_type": "markdown",
   "metadata": {},
   "source": [
    "# Room Capacity Data from Contact Notebook"
   ]
  },
  {
   "cell_type": "code",
   "execution_count": 390,
   "metadata": {
    "collapsed": false
   },
   "outputs": [
    {
     "data": {
      "text/plain": [
       "B232 (Admin)             1530\n",
       "A168 (HQ)                1455\n",
       "B207 (Admin)             1294\n",
       "A346 (HQ)                1281\n",
       "A236 (HQ)                1280\n",
       "D102                     1263\n",
       "B124 (Admin)             1224\n",
       "A235 (HQ)                1154\n",
       "A318 (HQ)                 998\n",
       "A345 (HQ)                 958\n",
       "Evergreen (BHA)           957\n",
       "Computers (BHA)           902\n",
       "Maple (BHA)               876\n",
       "A143 (HQ)                 824\n",
       "B108 (Admin)              810\n",
       "D131                      735\n",
       "A136 (HQ)                 615\n",
       "C209                      562\n",
       "C225                      396\n",
       "C212                      392\n",
       "A226 (HQ)                 322\n",
       "G112 (BHA)                295\n",
       "Boardroom (HQ)            256\n",
       "A124 (HQ)                 186\n",
       "District Counsel (HQ)     106\n",
       "B228 (Admin)               26\n",
       "R-316 Rinc                  8\n",
       "G111 (BHA)                  3\n",
       "Name: Room, dtype: int64"
      ]
     },
     "execution_count": 390,
     "metadata": {},
     "output_type": "execute_result"
    }
   ],
   "source": [
    "df[\"Room\"].value_counts()"
   ]
  },
  {
   "cell_type": "code",
   "execution_count": 126,
   "metadata": {
    "collapsed": false
   },
   "outputs": [],
   "source": [
    "capacity = [{u\"Room\":\"B108 (Admin)\", \"Capacity\":68},\n",
    "{\"Room\": \"B120 (Admin)\", \"Capacity\":10},\n",
    "{\"Room\": \"B124 (Admin)\", \"Capacity\": 10},\n",
    "{\"Room\": \"B207 (Admin)\", \"Capacity\": 12},\n",
    "{\"Room\": \"B232 (Admin)\", \"Capacity\": 12},\n",
    "{\"Room\": \"Computers (BHA)\",\"Capacity\": 11},\n",
    "{\"Room\": \"Evergreen (BHA)\", \"Capacity\": 40},\n",
    "{\"Room\": \"Madrone\", \"Capacity\": 5},\n",
    "{\"Room\": \"Maple (BHA)\", \"Capacity\": 15},\n",
    "{\"Room\": \"A124 (HQ)\", \"Capacity\": np.nan},\n",
    "{\"Room\": \"Boardroom (HQ)\", \"Capacity\": 130},\n",
    "{\"Room\": \"Lobby Boardroom (HQ)\", \"Capacity\": 50},\n",
    "{\"Room\": \"A104 (HQ)\", \"Capacity\": 3},\n",
    "{\"Room\": \"A105 (HQ)\", \"Capacity\": 4},\n",
    "{\"Room\": \"A136 (HQ)\", \"Capacity\": 16},\n",
    "{\"Room\": \"A143 (HQ)\", \"Capacity\": 40},\n",
    "{\"Room\": \"A162 (HQ)\", \"Capacity\": 12},\n",
    "{\"Room\": \"A168 (HQ)\", \"Capacity\": 20},\n",
    "{\"Room\": \"A173 (HQ)\", \"Capacity\": 12},\n",
    "{\"Room\": \"A235 (HQ)\", \"Capacity\": 12},\n",
    "{\"Room\": \"A236 (HQ)\", \"Capacity\": 12},\n",
    "{\"Room\": \"A237 (HQ)\", \"Capacity\": 6},\n",
    "{\"Room\": \"A238 (HQ)\", \"Capacity\": 6},\n",
    "{\"Room\": \"A314 (HQ)\", \"Capacity\": 6},\n",
    "{\"Room\": \"A315 (HQ)\", \"Capacity\": 6},\n",
    "{\"Room\": \"A318 (HQ)\", \"Capacity\": 12},\n",
    "{\"Room\": \"A345 (HQ)\", \"Capacity\": 6},\n",
    "{\"Room\": \"A346 (HQ)\", \"Capacity\": 6},\n",
    "{\"Room\": \"D131\", \"Capacity\": 10},\n",
    "{\"Room\": \"2nd Floor EOC\", \"Capacity\": 12},\n",
    "{\"Room\": \"Ready Room\", \"Capacity\": 75}]"
   ]
  },
  {
   "cell_type": "markdown",
   "metadata": {},
   "source": [
    "### Capacity DataFrame Creation"
   ]
  },
  {
   "cell_type": "code",
   "execution_count": 133,
   "metadata": {
    "collapsed": false
   },
   "outputs": [
    {
     "data": {
      "text/html": [
       "<div>\n",
       "<table border=\"1\" class=\"dataframe\">\n",
       "  <thead>\n",
       "    <tr style=\"text-align: right;\">\n",
       "      <th></th>\n",
       "      <th>Capacity</th>\n",
       "    </tr>\n",
       "    <tr>\n",
       "      <th>Room</th>\n",
       "      <th></th>\n",
       "    </tr>\n",
       "  </thead>\n",
       "  <tbody>\n",
       "    <tr>\n",
       "      <th>B108 (Admin)</th>\n",
       "      <td>68.0</td>\n",
       "    </tr>\n",
       "    <tr>\n",
       "      <th>B120 (Admin)</th>\n",
       "      <td>10.0</td>\n",
       "    </tr>\n",
       "    <tr>\n",
       "      <th>B124 (Admin)</th>\n",
       "      <td>10.0</td>\n",
       "    </tr>\n",
       "    <tr>\n",
       "      <th>B207 (Admin)</th>\n",
       "      <td>12.0</td>\n",
       "    </tr>\n",
       "    <tr>\n",
       "      <th>B232 (Admin)</th>\n",
       "      <td>12.0</td>\n",
       "    </tr>\n",
       "  </tbody>\n",
       "</table>\n",
       "</div>"
      ],
      "text/plain": [
       "              Capacity\n",
       "Room                  \n",
       "B108 (Admin)      68.0\n",
       "B120 (Admin)      10.0\n",
       "B124 (Admin)      10.0\n",
       "B207 (Admin)      12.0\n",
       "B232 (Admin)      12.0"
      ]
     },
     "execution_count": 133,
     "metadata": {},
     "output_type": "execute_result"
    }
   ],
   "source": [
    "capacity=DataFrame(capacity)\n",
    "capacity.set_index(\"Room\",inplace=True)\n",
    "capacity.head()"
   ]
  },
  {
   "cell_type": "markdown",
   "metadata": {},
   "source": [
    "### Merge Capacity to DF"
   ]
  },
  {
   "cell_type": "code",
   "execution_count": 611,
   "metadata": {
    "collapsed": false
   },
   "outputs": [],
   "source": [
    "df=df.merge(capacity,how=\"left\",left_on=\"Room\",right_index=True)"
   ]
  },
  {
   "cell_type": "markdown",
   "metadata": {},
   "source": [
    "# Missing Data"
   ]
  },
  {
   "cell_type": "markdown",
   "metadata": {},
   "source": [
    "### Confrence Rooms missing from Contact Notebook and value counts"
   ]
  },
  {
   "cell_type": "code",
   "execution_count": 632,
   "metadata": {
    "collapsed": false
   },
   "outputs": [
    {
     "data": {
      "text/plain": [
       "D102                     1263\n",
       "C209                      562\n",
       "C225                      396\n",
       "C212                      392\n",
       "A226 (HQ)                 322\n",
       "G112 (BHA)                295\n",
       "A124 (HQ)                 186\n",
       "District Counsel (HQ)     106\n",
       "B228 (Admin)               26\n",
       "R-316 Rinc                  8\n",
       "G111 (BHA)                  3\n",
       "Name: Room, dtype: int64"
      ]
     },
     "execution_count": 632,
     "metadata": {},
     "output_type": "execute_result"
    }
   ],
   "source": [
    "df[pd.isnull(df[\"Capacity\"])][\"Room\"].value_counts()"
   ]
  },
  {
   "cell_type": "code",
   "execution_count": null,
   "metadata": {
    "collapsed": true
   },
   "outputs": [],
   "source": [
    "# 11 Rooms with schduling data however no capacity data"
   ]
  },
  {
   "cell_type": "code",
   "execution_count": 137,
   "metadata": {
    "collapsed": false
   },
   "outputs": [
    {
     "data": {
      "text/html": [
       "<div>\n",
       "<table border=\"1\" class=\"dataframe\">\n",
       "  <thead>\n",
       "    <tr style=\"text-align: right;\">\n",
       "      <th></th>\n",
       "      <th>Building Code</th>\n",
       "      <th>Floor Code</th>\n",
       "      <th>Room Code</th>\n",
       "      <th>Room Area</th>\n",
       "      <th>Room Category</th>\n",
       "      <th>Room Type</th>\n",
       "      <th>Room Standard</th>\n",
       "      <th>Executive Code</th>\n",
       "      <th>Chief Code</th>\n",
       "      <th>Division Code</th>\n",
       "      <th>Unit Code</th>\n",
       "    </tr>\n",
       "  </thead>\n",
       "  <tbody>\n",
       "    <tr>\n",
       "      <th>454</th>\n",
       "      <td>CR</td>\n",
       "      <td>2</td>\n",
       "      <td>C-209</td>\n",
       "      <td>210.4</td>\n",
       "      <td>SUPPORT</td>\n",
       "      <td>CONFERENCE</td>\n",
       "      <td>CONF-RM</td>\n",
       "      <td>NaN</td>\n",
       "      <td>999.0</td>\n",
       "      <td>999.0</td>\n",
       "      <td>NaN</td>\n",
       "    </tr>\n",
       "  </tbody>\n",
       "</table>\n",
       "</div>"
      ],
      "text/plain": [
       "    Building Code Floor Code Room Code  Room Area Room Category   Room Type  \\\n",
       "454            CR          2     C-209      210.4       SUPPORT  CONFERENCE   \n",
       "\n",
       "    Room Standard  Executive Code  Chief Code  Division Code  Unit Code  \n",
       "454       CONF-RM             NaN       999.0          999.0        NaN  "
      ]
     },
     "execution_count": 137,
     "metadata": {},
     "output_type": "execute_result"
    }
   ],
   "source": [
    "facilities[facilities[\"Room Code\"] == \"C-209\"]"
   ]
  },
  {
   "cell_type": "markdown",
   "metadata": {},
   "source": [
    "### Confrence Rooms with Capacity Data without Schduling Data"
   ]
  },
  {
   "cell_type": "code",
   "execution_count": 629,
   "metadata": {
    "collapsed": false
   },
   "outputs": [
    {
     "name": "stdout",
     "output_type": "stream",
     "text": [
      "['B120 (Admin)', 'Madrone', 'Lobby Boardroom (HQ)', 'A104 (HQ)', 'A105 (HQ)', 'A162 (HQ)', 'A173 (HQ)', 'A237 (HQ)', 'A238 (HQ)', 'A314 (HQ)', 'A315 (HQ)', '2nd Floor EOC', 'Ready Room']\n"
     ]
    }
   ],
   "source": [
    "missing = []\n",
    "for x in capacity.index:\n",
    "    if x not in df[\"Room\"].unique():\n",
    "        missing.append(x)\n",
    "    else:\n",
    "        pass\n",
    "\n",
    "print(missing)"
   ]
  },
  {
   "cell_type": "code",
   "execution_count": 630,
   "metadata": {
    "collapsed": false
   },
   "outputs": [
    {
     "data": {
      "text/plain": [
       "13"
      ]
     },
     "execution_count": 630,
     "metadata": {},
     "output_type": "execute_result"
    }
   ],
   "source": [
    "len(missing)"
   ]
  },
  {
   "cell_type": "code",
   "execution_count": null,
   "metadata": {
    "collapsed": true
   },
   "outputs": [],
   "source": [
    "#13 Rooms with capacity data but no scheduling data"
   ]
  },
  {
   "cell_type": "markdown",
   "metadata": {},
   "source": [
    "### Confrence Rooms vs Facilities Allocations Data"
   ]
  },
  {
   "cell_type": "code",
   "execution_count": 7,
   "metadata": {
    "collapsed": false
   },
   "outputs": [],
   "source": [
    "facilities = pd.read_excel(\"Facilities Allocation Data.xlsx\",sheetname = \"Rooms\", header = 8)"
   ]
  },
  {
   "cell_type": "code",
   "execution_count": 22,
   "metadata": {
    "collapsed": true
   },
   "outputs": [],
   "source": [
    "roomType = facilities[\"Room Type\"].unique().tolist()"
   ]
  },
  {
   "cell_type": "code",
   "execution_count": null,
   "metadata": {
    "collapsed": true
   },
   "outputs": [],
   "source": [
    "conference = facilities[(facilities[\"Room Type\"] == \"CONFERENCE\") | (facilities[\"Room Type\"] == \"BRD_CNF_RM\")]"
   ]
  },
  {
   "cell_type": "code",
   "execution_count": 47,
   "metadata": {
    "collapsed": false
   },
   "outputs": [
    {
     "data": {
      "text/html": [
       "<div>\n",
       "<table border=\"1\" class=\"dataframe\">\n",
       "  <thead>\n",
       "    <tr style=\"text-align: right;\">\n",
       "      <th></th>\n",
       "      <th>Building Code</th>\n",
       "      <th>Floor Code</th>\n",
       "      <th>Room Code</th>\n",
       "      <th>Room Area</th>\n",
       "      <th>Room Category</th>\n",
       "      <th>Room Type</th>\n",
       "      <th>Room Standard</th>\n",
       "      <th>Executive Code</th>\n",
       "      <th>Chief Code</th>\n",
       "      <th>Division Code</th>\n",
       "      <th>Unit Code</th>\n",
       "    </tr>\n",
       "  </thead>\n",
       "  <tbody>\n",
       "    <tr>\n",
       "      <th>2</th>\n",
       "      <td>ADM</td>\n",
       "      <td>1</td>\n",
       "      <td>B-104</td>\n",
       "      <td>126.20</td>\n",
       "      <td>SUPPORT</td>\n",
       "      <td>CONFERENCE</td>\n",
       "      <td>CONF-RM</td>\n",
       "      <td>NaN</td>\n",
       "      <td>999.0</td>\n",
       "      <td>999.0</td>\n",
       "      <td>NaN</td>\n",
       "    </tr>\n",
       "    <tr>\n",
       "      <th>7</th>\n",
       "      <td>ADM</td>\n",
       "      <td>1</td>\n",
       "      <td>B-108</td>\n",
       "      <td>1135.88</td>\n",
       "      <td>SUPPORT</td>\n",
       "      <td>CONFERENCE</td>\n",
       "      <td>CONF-RM</td>\n",
       "      <td>NaN</td>\n",
       "      <td>999.0</td>\n",
       "      <td>999.0</td>\n",
       "      <td>NaN</td>\n",
       "    </tr>\n",
       "    <tr>\n",
       "      <th>22</th>\n",
       "      <td>ADM</td>\n",
       "      <td>1</td>\n",
       "      <td>B-124</td>\n",
       "      <td>229.23</td>\n",
       "      <td>SUPPORT</td>\n",
       "      <td>CONFERENCE</td>\n",
       "      <td>CONF-RM</td>\n",
       "      <td>NaN</td>\n",
       "      <td>999.0</td>\n",
       "      <td>999.0</td>\n",
       "      <td>NaN</td>\n",
       "    </tr>\n",
       "    <tr>\n",
       "      <th>137</th>\n",
       "      <td>ADM</td>\n",
       "      <td>2</td>\n",
       "      <td>B-207</td>\n",
       "      <td>202.13</td>\n",
       "      <td>SUPPORT</td>\n",
       "      <td>CONFERENCE</td>\n",
       "      <td>CONF-RM</td>\n",
       "      <td>NaN</td>\n",
       "      <td>999.0</td>\n",
       "      <td>999.0</td>\n",
       "      <td>NaN</td>\n",
       "    </tr>\n",
       "    <tr>\n",
       "      <th>207</th>\n",
       "      <td>ADM</td>\n",
       "      <td>2</td>\n",
       "      <td>B-232</td>\n",
       "      <td>216.13</td>\n",
       "      <td>SUPPORT</td>\n",
       "      <td>CONFERENCE</td>\n",
       "      <td>CONF-RM</td>\n",
       "      <td>NaN</td>\n",
       "      <td>999.0</td>\n",
       "      <td>999.0</td>\n",
       "      <td>NaN</td>\n",
       "    </tr>\n",
       "  </tbody>\n",
       "</table>\n",
       "</div>"
      ],
      "text/plain": [
       "    Building Code Floor Code Room Code  Room Area Room Category   Room Type  \\\n",
       "2             ADM          1     B-104     126.20       SUPPORT  CONFERENCE   \n",
       "7             ADM          1     B-108    1135.88       SUPPORT  CONFERENCE   \n",
       "22            ADM          1     B-124     229.23       SUPPORT  CONFERENCE   \n",
       "137           ADM          2     B-207     202.13       SUPPORT  CONFERENCE   \n",
       "207           ADM          2     B-232     216.13       SUPPORT  CONFERENCE   \n",
       "\n",
       "    Room Standard  Executive Code  Chief Code  Division Code  Unit Code  \n",
       "2         CONF-RM             NaN       999.0          999.0        NaN  \n",
       "7         CONF-RM             NaN       999.0          999.0        NaN  \n",
       "22        CONF-RM             NaN       999.0          999.0        NaN  \n",
       "137       CONF-RM             NaN       999.0          999.0        NaN  \n",
       "207       CONF-RM             NaN       999.0          999.0        NaN  "
      ]
     },
     "execution_count": 47,
     "metadata": {},
     "output_type": "execute_result"
    }
   ],
   "source": [
    "conference.head()"
   ]
  },
  {
   "cell_type": "code",
   "execution_count": 111,
   "metadata": {
    "collapsed": true
   },
   "outputs": [],
   "source": [
    "conferenceRoomCode = {\n",
    "    \"B-104\": np.nan,\n",
    "    \"B-108\": \"B108 (Admin)\",\n",
    "    \"B-124\": \"B124 (Admin)\",\n",
    "    \"B-207\": \"B207 (Admin)\",\n",
    "    \"B-232\": \"B232 (Admin)\",\n",
    "    \"G-120\": np.nan,\n",
    "    \"G-121\": np.nan,\n",
    "    \"G-112\": \"G112 (BHA)\",\n",
    "    \"G-122\": np.nan,\n",
    "    \"K-405\": np.nan,\n",
    "    \"C-209\": \"C209\",\n",
    "    \"C-212\": \"C212\",\n",
    "    \"C-225\": \"C225\",\n",
    "    \"A-120\": np.nan,\n",
    "    \"A-124\": \"A124 (HQ)\",\n",
    "    \"A-136\": \"A136 (HQ)\",\n",
    "    \"A-138\": np.nan,\n",
    "    \"A-143\": \"A143 (HQ)\",\n",
    "    \"A-168\": \"A168 (HQ)\",\n",
    "    \"A-173\": np.nan,\n",
    "    \"A-226\": \"A226 (HQ)\",\n",
    "    \"A-235\": \"A235 (HQ)\",\n",
    "    \"A-236\": \"A236 (HQ)\",\n",
    "    \"A-237\": np.nan,\n",
    "    \"A-238\": np.nan,\n",
    "    \"A-343\": np.nan,\n",
    "    \"A-344\": np.nan,\n",
    "    \"A-345\": \"A345 (HQ)\",\n",
    "    \"A-346\": \"A346 (HQ)\",\n",
    "    \"A318\": \"A318 (HQ)\",\n",
    "    \"D-131\": \"D131\",\n",
    "    \"P-304\": np.nan,\n",
    "    \"PO-104\": np.nan,\n",
    "    \"R-228\": np.nan,\n",
    "    \"R-316\": \"R-316 Rinc\",\n",
    "    \"S-103\": np.nan,\n",
    "    \"L-117\": np.nan,\n",
    "    \"L-156\": np.nan,\n",
    "}"
   ]
  },
  {
   "cell_type": "code",
   "execution_count": 112,
   "metadata": {
    "collapsed": false
   },
   "outputs": [
    {
     "name": "stderr",
     "output_type": "stream",
     "text": [
      "//anaconda/lib/python3.5/site-packages/ipykernel/__main__.py:1: SettingWithCopyWarning: \n",
      "A value is trying to be set on a copy of a slice from a DataFrame.\n",
      "Try using .loc[row_indexer,col_indexer] = value instead\n",
      "\n",
      "See the caveats in the documentation: http://pandas.pydata.org/pandas-docs/stable/indexing.html#indexing-view-versus-copy\n",
      "  if __name__ == '__main__':\n"
     ]
    }
   ],
   "source": [
    "conference[\"Room Code 2\"] = conference[\"Room Code\"].apply(lambda x: conferenceRoomCode[x])"
   ]
  },
  {
   "cell_type": "markdown",
   "metadata": {},
   "source": [
    "#### Conference Rooms in Facilities Allocation Data but no Outlook Scheduling Data"
   ]
  },
  {
   "cell_type": "code",
   "execution_count": 148,
   "metadata": {
    "collapsed": false
   },
   "outputs": [
    {
     "data": {
      "text/plain": [
       "2        B-104\n",
       "376      G-120\n",
       "377      G-121\n",
       "378      G-122\n",
       "419      K-405\n",
       "501      A-120\n",
       "561      A-138\n",
       "606      A-173\n",
       "833      A-237\n",
       "834      A-238\n",
       "1025     A-343\n",
       "1026     A-344\n",
       "1262     P-304\n",
       "1271    PO-104\n",
       "1349     R-228\n",
       "1518     S-103\n",
       "1614     L-117\n",
       "1677     L-156\n",
       "Name: Room Code, dtype: object"
      ]
     },
     "execution_count": 148,
     "metadata": {},
     "output_type": "execute_result"
    }
   ],
   "source": [
    "conference[pd.isnull(conference[\"Room Code 2\"])][\"Room Code\"]"
   ]
  },
  {
   "cell_type": "markdown",
   "metadata": {},
   "source": [
    "#### Conference Rooms with Outlook Schduling Data with not in Facilities Allocation Data "
   ]
  },
  {
   "cell_type": "code",
   "execution_count": 114,
   "metadata": {
    "collapsed": false
   },
   "outputs": [
    {
     "data": {
      "text/plain": [
       "['D102',\n",
       " 'Computers (BHA)',\n",
       " 'Evergreen (BHA)',\n",
       " 'Maple (BHA)',\n",
       " 'Boardroom (HQ)',\n",
       " 'District Counsel (HQ)',\n",
       " 'B228 (Admin)',\n",
       " 'G111 (BHA)']"
      ]
     },
     "execution_count": 114,
     "metadata": {},
     "output_type": "execute_result"
    }
   ],
   "source": [
    "missing2 = []\n",
    "for x in df[\"Room\"].unique():\n",
    "    if x in conference[pd.notnull(conference[\"Room Code 2\"])][\"Room Code 2\"].tolist():\n",
    "        pass\n",
    "    else:\n",
    "        missing2.append(x)\n",
    "\n",
    "missing2"
   ]
  },
  {
   "cell_type": "code",
   "execution_count": 181,
   "metadata": {
    "collapsed": false
   },
   "outputs": [
    {
     "data": {
      "text/plain": [
       "['D102',\n",
       " 'A136 (HQ)',\n",
       " 'A168 (HQ)',\n",
       " 'A236 (HQ)',\n",
       " 'A346 (HQ)',\n",
       " 'B124 (Admin)',\n",
       " 'B207 (Admin)',\n",
       " 'B232 (Admin)',\n",
       " 'Computers (BHA)',\n",
       " 'Evergreen (BHA)',\n",
       " 'Maple (BHA)',\n",
       " 'C209',\n",
       " 'A143 (HQ)',\n",
       " 'A235 (HQ)',\n",
       " 'D131',\n",
       " 'A226 (HQ)',\n",
       " 'C212',\n",
       " 'A318 (HQ)',\n",
       " 'B108 (Admin)',\n",
       " 'C225',\n",
       " 'A124 (HQ)',\n",
       " 'Boardroom (HQ)',\n",
       " 'A345 (HQ)',\n",
       " 'District Counsel (HQ)',\n",
       " 'G112 (BHA)',\n",
       " 'B228 (Admin)',\n",
       " 'G111 (BHA)',\n",
       " 'R-316 Rinc']"
      ]
     },
     "execution_count": 181,
     "metadata": {},
     "output_type": "execute_result"
    }
   ],
   "source": [
    "df[\"Room\"].unique().tolist()"
   ]
  },
  {
   "cell_type": "code",
   "execution_count": null,
   "metadata": {
    "collapsed": true
   },
   "outputs": [],
   "source": []
  },
  {
   "cell_type": "markdown",
   "metadata": {},
   "source": [
    "# Plotting Confrence Room Usage by Month"
   ]
  },
  {
   "cell_type": "code",
   "execution_count": null,
   "metadata": {
    "collapsed": true
   },
   "outputs": [],
   "source": [
    "#count of meetings per month by conference room"
   ]
  },
  {
   "cell_type": "code",
   "execution_count": 633,
   "metadata": {
    "collapsed": false
   },
   "outputs": [
    {
     "data": {
      "image/png": "[encoded data removed]",
      "text/plain": [
       "<matplotlib.figure.Figure at 0x11ff5ad68>"
      ]
     },
     "metadata": {},
     "output_type": "display_data"
    }
   ],
   "source": [
    "num = 0\n",
    "fig,axes = plt.subplots(nrows=28,ncols=1,figsize=(20,70))\n",
    "\n",
    "for x in df[\"Room\"].unique():\n",
    "    axes[num].plot(df[df[\"Room\"] == x].set_index(\"Clean Start DateTime\").groupby(pd.TimeGrouper(freq=\"M\"))[\"Room\"].count())\n",
    "    axes[num].set_title(x)\n",
    "    axes[num].set_ylabel(\"Count of Reservations\")\n",
    "    axes[num].set_xlabel(\"Month\")\n",
    "    num+=1\n",
    "\n",
    "fig.tight_layout()"
   ]
  },
  {
   "cell_type": "markdown",
   "metadata": {},
   "source": [
    "# Change time interval of DataFrame"
   ]
  },
  {
   "cell_type": "code",
   "execution_count": 600,
   "metadata": {
    "collapsed": false
   },
   "outputs": [],
   "source": [
    "updateDate = DataFrame(index = pd.date_range(\"2015-10-13\",\"2016-10-13\",freq=\"15Min\"))"
   ]
  },
  {
   "cell_type": "code",
   "execution_count": null,
   "metadata": {
    "collapsed": false
   },
   "outputs": [],
   "source": [
    "roundup=[]\n",
    "for x in df[\"Meeting Length (30min)\"]:\n",
    "    try:\n",
    "        roundup.append(math.ceil(float(x)*2))\n",
    "    except:\n",
    "        roundup.append(math.ceil(float(x)*2))"
   ]
  },
  {
   "cell_type": "code",
   "execution_count": 665,
   "metadata": {
    "collapsed": false
   },
   "outputs": [],
   "source": [
    "df[\"Meeting Length (15 Min)\"] = roundup"
   ]
  },
  {
   "cell_type": "code",
   "execution_count": 668,
   "metadata": {
    "collapsed": true
   },
   "outputs": [],
   "source": [
    "update = df.copy()"
   ]
  },
  {
   "cell_type": "code",
   "execution_count": 2,
   "metadata": {
    "collapsed": false
   },
   "outputs": [
    {
     "ename": "NameError",
     "evalue": "name 'update' is not defined",
     "output_type": "error",
     "traceback": [
      "\u001b[0;31m---------------------------------------------------------------------------\u001b[0m",
      "\u001b[0;31mNameError\u001b[0m                                 Traceback (most recent call last)",
      "\u001b[0;32m<ipython-input-2-01eb2c11c268>\u001b[0m in \u001b[0;36m<module>\u001b[0;34m()\u001b[0m\n\u001b[0;32m----> 1\u001b[0;31m \u001b[0mupdate\u001b[0m\u001b[0;34m\u001b[0m\u001b[0m\n\u001b[0m",
      "\u001b[0;31mNameError\u001b[0m: name 'update' is not defined"
     ]
    }
   ],
   "source": [
    "update"
   ]
  }
 ],
 "metadata": {
  "kernelspec": {
   "display_name": "Python 3",
   "language": "python",
   "name": "python3"
  },
  "language_info": {
   "codemirror_mode": {
    "name": "ipython",
    "version": 3
   },
   "file_extension": ".py",
   "mimetype": "text/x-python",
   "name": "python",
   "nbconvert_exporter": "python",
   "pygments_lexer": "ipython3",
   "version": "3.5.2"
  }
 },
 "nbformat": 4,
 "nbformat_minor": 1
}
